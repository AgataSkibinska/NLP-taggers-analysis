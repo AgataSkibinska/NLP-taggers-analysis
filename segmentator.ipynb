{
 "cells": [
  {
   "cell_type": "code",
   "execution_count": 2,
   "metadata": {},
   "outputs": [
    {
     "name": "stdout",
     "output_type": "stream",
     "text": [
      "(\n",
      "Shqipëria\n",
      ",\n"
     ]
    }
   ],
   "source": [
    "f = open(\"Albania_59.txt\", \"r\",encoding=\"utf8\")\n",
    "#print(f.read())\n",
    "def segmentation(text):\n",
    "    text = text.split()\n",
    "    sep1 = [\".\",\",\",\"!\",\"?\",\":\",\";\",\")\",\"\\\"\", \"]\"]\n",
    "    sep2 = [\"(\", \"[\", \"\\\"\"]\n",
    "    result = []\n",
    "    shorts = [\"np.\", \"itd.\", \"tzn.\", \"itp.\", \"m.in.\", \"ect.\", \"tys.\", \"lek.\", \"lic.\", \"inż.\", \"ul.\", \"al.\", \"def.\", \"dot.\", \"śp.\",\"tzw.\"]\n",
    "    for index, word in enumerate(text):\n",
    "       # if word not in shorts:\n",
    "        if word[-1] in sep1 and word[0] in sep2:\n",
    "            separated_word = word[1:-1]\n",
    "            result.append(word[0])\n",
    "            result.append(word[1:-1])\n",
    "                result.append(word[-1])\n",
    "            elif word[-1] in sep1:\n",
    "                result.append(word[:-1])\n",
    "                result.append(word[-1])\n",
    "            elif word[0] in sep2:\n",
    "                result.append(word[0])\n",
    "                result.append(word[1:])\n",
    "            else:\n",
    "                result.append(word)\n",
    "        return result\n",
    "    \n",
    "\n",
    "text  = segmentation(f.read())\n",
    "\n",
    "for word in text:\n",
    "    print(word)\n"
   ]
  },
  {
   "cell_type": "code",
   "execution_count": null,
   "metadata": {},
   "outputs": [],
   "source": []
  }
 ],
 "metadata": {
  "kernelspec": {
   "display_name": "Python 3",
   "language": "python",
   "name": "python3"
  },
  "language_info": {
   "codemirror_mode": {
    "name": "ipython",
    "version": 3
   },
   "file_extension": ".py",
   "mimetype": "text/x-python",
   "name": "python",
   "nbconvert_exporter": "python",
   "pygments_lexer": "ipython3",
   "version": "3.7.4"
  }
 },
 "nbformat": 4,
 "nbformat_minor": 1
}
