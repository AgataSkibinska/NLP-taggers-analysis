{
 "cells": [
  {
   "cell_type": "code",
   "execution_count": 7,
   "metadata": {},
   "outputs": [],
   "source": [
    "import json\n",
    "import requests\n",
    "\n",
    "clarinpl_url = \"http://ws.clarin-pl.eu/nlprest2/base\"\n",
    "user_mail = \"demo2019@nlpday.pl\""
   ]
  },
  {
   "cell_type": "code",
   "execution_count": 8,
   "metadata": {},
   "outputs": [],
   "source": [
    "url = clarinpl_url + \"/process\"\n",
    "lpmn = \"wcrft2\"\n",
    "text = \"Na płocie siedzi kot.\"\n",
    "\n",
    "payload = {'text': text, 'lpmn': lpmn, 'user': user_mail}\n",
    "headers = {'content-type': 'application/json'}"
   ]
  },
  {
   "cell_type": "code",
   "execution_count": 9,
   "metadata": {},
   "outputs": [
    {
     "name": "stdout",
     "output_type": "stream",
     "text": [
      "<?xml version=\"1.0\" encoding=\"UTF-8\"?>\n",
      "<!DOCTYPE chunkList SYSTEM \"ccl.dtd\">\n",
      "<chunkList>\n",
      " <chunk id=\"ch1\" type=\"p\">\n",
      "  <sentence id=\"s1\">\n",
      "   <tok>\n",
      "    <orth>Na</orth>\n",
      "    <lex disamb=\"1\"><base>na</base><ctag>prep:acc</ctag></lex>\n",
      "   </tok>\n",
      "   <tok>\n",
      "    <orth>płocie</orth>\n",
      "    <lex disamb=\"1\"><base>płot</base><ctag>subst:sg:loc:m3</ctag></lex>\n",
      "   </tok>\n",
      "   <tok>\n",
      "    <orth>siedzi</orth>\n",
      "    <lex disamb=\"1\"><base>siedzieć</base><ctag>fin:sg:ter:imperf</ctag></lex>\n",
      "   </tok>\n",
      "   <tok>\n",
      "    <orth>kot</orth>\n",
      "    <lex disamb=\"1\"><base>kot</base><ctag>subst:sg:nom:m1</ctag></lex>\n",
      "   </tok>\n",
      "   <ns/>\n",
      "   <tok>\n",
      "    <orth>.</orth>\n",
      "    <lex disamb=\"1\"><base>.</base><ctag>interp</ctag></lex>\n",
      "   </tok>\n",
      "  </sentence>\n",
      " </chunk>\n",
      "</chunkList>\n",
      "\n"
     ]
    }
   ],
   "source": [
    "r = requests.post(url, data=json.dumps(payload), headers=headers)\n",
    "ccl = r.content.decode('utf-8')\n",
    "print(ccl)"
   ]
  },
  {
   "cell_type": "code",
   "execution_count": null,
   "metadata": {},
   "outputs": [],
   "source": []
  }
 ],
 "metadata": {
  "kernelspec": {
   "display_name": "Python 3",
   "language": "python",
   "name": "python3"
  },
  "language_info": {
   "codemirror_mode": {
    "name": "ipython",
    "version": 3
   },
   "file_extension": ".py",
   "mimetype": "text/x-python",
   "name": "python",
   "nbconvert_exporter": "python",
   "pygments_lexer": "ipython3",
   "version": "3.7.4"
  }
 },
 "nbformat": 4,
 "nbformat_minor": 2
}
